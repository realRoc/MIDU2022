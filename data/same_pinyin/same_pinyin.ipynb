{
 "cells": [
  {
   "cell_type": "code",
   "execution_count": 4,
   "id": "61fc0386",
   "metadata": {},
   "outputs": [],
   "source": [
    "import json\n",
    "from LAC import LAC\n",
    "from pypinyin import pinyin, lazy_pinyin\n",
    "\n",
    "with open('text_correct_data/classification/classify_train.json', encoding='utf-8') as f:\n",
    "    raw_data = json.load(f)"
   ]
  },
  {
   "cell_type": "code",
   "execution_count": 10,
   "id": "6d34d336",
   "metadata": {},
   "outputs": [],
   "source": [
    "# 装载LAC模型\n",
    "lac = LAC(mode='lac')\n",
    "word_cnt = {}\n",
    "\n",
    "for data in raw_data:\n",
    "    lac_result = lac.run(data['target'])\n",
    "    for res in lac_result[0]:\n",
    "        if not '\\u4e00' <= res <= '\\u9fa5':\n",
    "            continue\n",
    "        if res in word_cnt:\n",
    "            word_cnt[res] += 1\n",
    "        else:\n",
    "            word_cnt[res] = 1"
   ]
  },
  {
   "cell_type": "code",
   "execution_count": 46,
   "id": "e1c3d9b4",
   "metadata": {},
   "outputs": [],
   "source": [
    "def anteroposterior(word):\n",
    "    word_py = lazy_pinyin(word)\n",
    "    candidate = []\n",
    "\n",
    "    for i, yin in enumerate(word_py):\n",
    "        req = [yin]\n",
    "        if yin.endswith('eng'):\n",
    "            req.append(yin.strip('eng') + 'en')\n",
    "        elif yin.endswith('en'):\n",
    "            req.append(yin.strip('en') + 'eng')\n",
    "        elif yin.endswith('ing'):\n",
    "            req.append(yin.strip('ing') + 'in')\n",
    "        elif yin.endswith('in'):\n",
    "            req.append(yin.strip('in') + 'ing')\n",
    "\n",
    "        if yin.startswith('zh'):\n",
    "            req.append(yin.replace('zh', 'z'))\n",
    "        elif yin.startswith('z'):\n",
    "            req.append(yin.replace('z', 'zh'))\n",
    "        elif yin.startswith('ch'):\n",
    "            req.append('c' + yin.strip('ch'))\n",
    "        elif yin.startswith('c'):\n",
    "            req.append('ch' + yin.strip('c'))\n",
    "        elif yin.startswith('sh'):\n",
    "            req.append('s' + yin.strip('sh'))\n",
    "        elif yin.startswith('s'):\n",
    "            req.append('sh' + yin.strip('s'))\n",
    "\n",
    "        candidate.append(req)\n",
    "\n",
    "    requests = []\n",
    "    for can in candidate:\n",
    "        if len(can) == 1:\n",
    "            if not requests:\n",
    "                requests.append(can[0])\n",
    "            else:\n",
    "                for i, req in enumerate(requests):\n",
    "                    requests[i] = req + '\\t' + can[0]\n",
    "        else:\n",
    "            if not requests:\n",
    "                requests = can\n",
    "            else:\n",
    "                length = len(requests)\n",
    "                requests = requests*len(can)\n",
    "                for i, c in enumerate(can):\n",
    "                    for j in range(length):\n",
    "                        requests[i*length+j] = requests[i*length+j] + '\\t' + c\n",
    "    return requests"
   ]
  },
  {
   "cell_type": "code",
   "execution_count": 81,
   "id": "02341b6c",
   "metadata": {},
   "outputs": [],
   "source": [
    "def check_same_pinyin(word, anteroposterior_flag = True):\n",
    "    requests = anteroposterior(word) if anteroposterior_flag else ['\\t'.join(lazy_pinyin(word))]\n",
    "    # same_pinyin_dict = same_pinyin_single if len(word) == 1 else same_pinyin_multi\n",
    "    same_pinyin_dict = same_pinyin\n",
    "    ret = []\n",
    "    for req in requests:\n",
    "        if req in same_pinyin_dict:\n",
    "            ret += same_pinyin_dict[req]\n",
    "    if word in ret:\n",
    "        ret.remove(word)\n",
    "    return ret"
   ]
  },
  {
   "cell_type": "code",
   "execution_count": 69,
   "id": "8bb6e3a9",
   "metadata": {},
   "outputs": [],
   "source": [
    "from pypinyin import pinyin, lazy_pinyin\n",
    "\n",
    "'''\n",
    "same_pinyin_single = {}\n",
    "same_pinyin_multi = {}\n",
    "\n",
    "for word, cnt in word_cnt.items():\n",
    "    if cnt <= 5:\n",
    "        continue\n",
    "    py = '\\t'.join(lazy_pinyin(word))\n",
    "    if len(word) == 1:\n",
    "        if py in same_pinyin_single:\n",
    "            same_pinyin_single[py].append(word)\n",
    "        else:\n",
    "            same_pinyin_single[py] = [word]\n",
    "    else:\n",
    "        if py in same_pinyin_multi:\n",
    "            same_pinyin_multi[py].append(word)\n",
    "        else:\n",
    "            same_pinyin_multi[py] = [word]\n",
    "'''\n",
    "\n",
    "same_pinyin = {}\n",
    "for word, cnt in word_cnt.items():\n",
    "    if cnt <= 5:\n",
    "        continue\n",
    "    py = '\\t'.join(lazy_pinyin(word))\n",
    "    if py in same_pinyin:\n",
    "        same_pinyin[py].append(word)\n",
    "    else:\n",
    "        same_pinyin[py] = [word]"
   ]
  },
  {
   "cell_type": "code",
   "execution_count": null,
   "id": "60b253da",
   "metadata": {},
   "outputs": [],
   "source": []
  },
  {
   "cell_type": "code",
   "execution_count": 92,
   "id": "b0389623",
   "metadata": {},
   "outputs": [
    {
     "data": {
      "text/plain": [
       "['纷纷', '分分']"
      ]
     },
     "execution_count": 92,
     "metadata": {},
     "output_type": "execute_result"
    }
   ],
   "source": [
    "with open('same_pinyin.json', encoding='utf-8') as f:\n",
    "    same_pinyin = json.load(f)\n",
    "word = '愤愤'\n",
    "check_same_pinyin(word, True)"
   ]
  },
  {
   "cell_type": "code",
   "execution_count": 82,
   "id": "55acae3a",
   "metadata": {},
   "outputs": [
    {
     "data": {
      "text/plain": [
       "[]"
      ]
     },
     "execution_count": 82,
     "metadata": {},
     "output_type": "execute_result"
    }
   ],
   "source": [
    "check_same_pinyin(word, False)"
   ]
  },
  {
   "cell_type": "code",
   "execution_count": 83,
   "id": "fcbd2977",
   "metadata": {},
   "outputs": [],
   "source": [
    "with open('same_pinyin.json', 'w', encoding='utf-8') as f:\n",
    "    json.dump(same_pinyin, f, ensure_ascii=False)"
   ]
  }
 ],
 "metadata": {
  "kernelspec": {
   "display_name": "Python 3 (ipykernel)",
   "language": "python",
   "name": "python3"
  },
  "language_info": {
   "codemirror_mode": {
    "name": "ipython",
    "version": 3
   },
   "file_extension": ".py",
   "mimetype": "text/x-python",
   "name": "python",
   "nbconvert_exporter": "python",
   "pygments_lexer": "ipython3",
   "version": "3.9.7"
  }
 },
 "nbformat": 4,
 "nbformat_minor": 5
}
